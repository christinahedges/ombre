{
 "cells": [
  {
   "cell_type": "code",
   "execution_count": null,
   "id": "c1faaab1-8f9f-461c-9df9-776777ef2c13",
   "metadata": {},
   "outputs": [],
   "source": []
  }
 ],
 "metadata": {
  "kernelspec": {
   "display_name": "Python 3 (ipykernel)",
   "language": "python",
   "name": "python3"
  },
  "language_info": {
   "name": ""
  }
 },
 "nbformat": 4,
 "nbformat_minor": 5
}
