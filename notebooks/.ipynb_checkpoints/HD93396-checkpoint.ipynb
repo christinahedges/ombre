{
 "cells": [
  {
   "cell_type": "markdown",
   "id": "43205981-a22b-472c-8312-2ae1044fc6c9",
   "metadata": {},
   "source": [
    "# HD93396\n",
    "\n",
    "**Note**: In this case the first visit from prop 12181 has the target overlap significantly with a background target, and doesn't have any data during transit, so we omit this dataset."
   ]
  },
  {
   "cell_type": "code",
   "execution_count": 1,
   "id": "123527a0-5625-4c9d-b11d-d516b0668ac3",
   "metadata": {},
   "outputs": [],
   "source": [
    "%load_ext autoreload\n",
    "%autoreload 2"
   ]
  },
  {
   "cell_type": "code",
   "execution_count": 2,
   "id": "d7616c7a-37b0-47eb-a12a-8aaf39964df6",
   "metadata": {},
   "outputs": [],
   "source": [
    "import lightkurve as lk\n",
    "from glob import glob\n",
    "import ombre as om\n",
    "import numpy as np\n",
    "import matplotlib.pyplot as plt\n",
    "import lightkurve as lk\n",
    "from astropy.io import fits\n",
    "import astropy.units as u"
   ]
  },
  {
   "cell_type": "code",
   "execution_count": 3,
   "id": "9c16129e-1088-4751-81b2-46bdb9bd77ef",
   "metadata": {},
   "outputs": [],
   "source": [
    "name = 'HD93396'"
   ]
  },
  {
   "cell_type": "code",
   "execution_count": 5,
   "id": "c217ee82-d899-451e-99e6-b6bfbe146803",
   "metadata": {},
   "outputs": [],
   "source": [
    "fnames = np.asarray(glob(f'/Volumes/Nibelheim/hst/data/{name}/*.fits'))"
   ]
  },
  {
   "cell_type": "code",
   "execution_count": null,
   "id": "d0e3d981-1e81-42e4-b69b-69dee33d65a2",
   "metadata": {},
   "outputs": [],
   "source": [
    "obs = om.Observation.from_files(fnames)"
   ]
  },
  {
   "cell_type": "code",
   "execution_count": 7,
   "id": "6bb169ee-5832-4a53-a1ec-66c85b07637b",
   "metadata": {},
   "outputs": [],
   "source": [
    "clc = lcs = lk.search_lightcurve(name, author='SPOC').download_all().stitch().remove_nans()\n",
    "clc.flux = clc.flux.value * u.electron/u.s\n",
    "clc.flux_err = clc.flux.value * u.electron/u.s"
   ]
  },
  {
   "cell_type": "code",
   "execution_count": null,
   "id": "f7e72626-d78c-494a-8cbb-c8679f77f281",
   "metadata": {},
   "outputs": [],
   "source": [
    "k = np.abs(((clc.time.value - (obs.t0 - 2457000 + obs.period/2))/obs.period) % 1 - 0.5) < 0.1\n",
    "clc[k].fold(obs.period, obs.t0 - 2457000).scatter()"
   ]
  },
  {
   "cell_type": "code",
   "execution_count": null,
   "id": "372d5e13-2c30-49ac-9a39-ae5f3e4c371b",
   "metadata": {},
   "outputs": [],
   "source": [
    "obs.fit_transit(x_suppl=clc.time.value[k] + 2457000,\n",
    "                y_suppl=clc.flux.value[k],\n",
    "                yerr_suppl=clc.flux_err.value[k],\n",
    "                exptime_suppl=np.median(np.diff(clc.time.value)))"
   ]
  },
  {
   "cell_type": "code",
   "execution_count": null,
   "id": "d7dda1bd-3372-40fd-94af-191d19490072",
   "metadata": {},
   "outputs": [],
   "source": [
    "obs.plot()"
   ]
  },
  {
   "cell_type": "code",
   "execution_count": null,
   "id": "5145f108-6ac6-4661-befb-5c7eb6976806",
   "metadata": {},
   "outputs": [],
   "source": [
    "obs.fit_model()"
   ]
  },
  {
   "cell_type": "code",
   "execution_count": null,
   "id": "f30a8d9e-f3c6-4a12-bb3e-75277a96b8d7",
   "metadata": {},
   "outputs": [],
   "source": [
    "obs.plot_spectra()"
   ]
  },
  {
   "cell_type": "code",
   "execution_count": null,
   "id": "090e286c-1f65-4927-bb7b-715a4417a1cc",
   "metadata": {},
   "outputs": [],
   "source": [
    "om.Spectra([visit.transmission_spectrum for visit in obs]).flatten().bin(bins=np.linspace(0.8, 1.7, 100)).plot()"
   ]
  },
  {
   "cell_type": "code",
   "execution_count": null,
   "id": "1c185bb6-65ae-46b0-a8ae-72ba3cc0db86",
   "metadata": {},
   "outputs": [],
   "source": [
    "spec = obs.stellar_spectra\n",
    "spec.plot()\n",
    "spec.hdulist.writeto(f'results/{name}_stellar_spectrum.fits', overwrite=True)"
   ]
  },
  {
   "cell_type": "code",
   "execution_count": null,
   "id": "a017cce1-0cfb-4606-9065-c3baec919844",
   "metadata": {},
   "outputs": [],
   "source": [
    "from astropy.io import fits\n",
    "try:\n",
    "    hdulist = om.Spectra([visit.transmission_spectrum for visit in obs if visit.transmission_spectrum.spec.sum() != 0]).hdulist\n",
    "    hdulist.writeto(f'results/{name}_transmission.fits', overwrite=True)\n",
    "except:\n",
    "    pass\n",
    "try:    \n",
    "    hdulist = om.Spectra([visit.emission_spectrum for visit in obs if visit.emission_spectrum.spec.sum() != 0]).hdulist\n",
    "    hdulist.writeto(f'results/{name}_emission.fits', overwrite=True)\n",
    "except:\n",
    "    pass"
   ]
  },
  {
   "cell_type": "code",
   "execution_count": null,
   "id": "5568d3d4-4228-4785-ab13-b4bb506d7503",
   "metadata": {},
   "outputs": [],
   "source": [
    "for visit in obs:\n",
    "    visit.diagnose();\n",
    "    plt.show();"
   ]
  },
  {
   "cell_type": "code",
   "execution_count": null,
   "id": "42591cf2-613d-4b8c-a846-da4f4c50b711",
   "metadata": {},
   "outputs": [],
   "source": []
  },
  {
   "cell_type": "code",
   "execution_count": null,
   "id": "5ec9951e-c8b2-4e10-930c-acae5851625e",
   "metadata": {},
   "outputs": [],
   "source": []
  }
 ],
 "metadata": {
  "kernelspec": {
   "display_name": "Python 3 (ipykernel)",
   "language": "python",
   "name": "python3"
  },
  "language_info": {
   "codemirror_mode": {
    "name": "ipython",
    "version": 3
   },
   "file_extension": ".py",
   "mimetype": "text/x-python",
   "name": "python",
   "nbconvert_exporter": "python",
   "pygments_lexer": "ipython3",
   "version": "3.8.7"
  }
 },
 "nbformat": 4,
 "nbformat_minor": 5
}
