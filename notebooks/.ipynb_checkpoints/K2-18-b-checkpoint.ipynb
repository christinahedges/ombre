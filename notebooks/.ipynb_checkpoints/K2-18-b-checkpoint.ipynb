{
 "cells": [
  {
   "cell_type": "markdown",
   "id": "43205981-a22b-472c-8312-2ae1044fc6c9",
   "metadata": {},
   "source": [
    "# K2-18 "
   ]
  },
  {
   "cell_type": "code",
   "execution_count": null,
   "id": "d7616c7a-37b0-47eb-a12a-8aaf39964df6",
   "metadata": {},
   "outputs": [],
   "source": [
    "import lightkurve as lk\n",
    "from glob import glob\n",
    "import ombre as om\n",
    "import numpy as np\n",
    "import matplotlib.pyplot as plt\n",
    "import lightkurve as lk\n",
    "\n",
    "import astropy.units as u"
   ]
  },
  {
   "cell_type": "code",
   "execution_count": null,
   "id": "9c16129e-1088-4751-81b2-46bdb9bd77ef",
   "metadata": {},
   "outputs": [],
   "source": [
    "name = 'K2-18'"
   ]
  },
  {
   "cell_type": "code",
   "execution_count": null,
   "id": "90b8ed0f-b29c-4775-b074-cf84016dfd9d",
   "metadata": {},
   "outputs": [],
   "source": [
    "fnames = np.asarray(glob(f'/Users/ch/HST/data/{name}/*.fits'))\n",
    "fnames = np.sort(fnames)\n",
    "obs = om.Observation.from_files(fnames)"
   ]
  },
  {
   "cell_type": "code",
   "execution_count": null,
   "id": "44a6cf56-155d-4fe2-a097-7e2d2e09a492",
   "metadata": {},
   "outputs": [],
   "source": [
    "obs"
   ]
  },
  {
   "cell_type": "code",
   "execution_count": null,
   "id": "69d06293-b5a2-4d33-87f9-0391910f4ed0",
   "metadata": {},
   "outputs": [],
   "source": [
    "clc = lk.search_lightcurve(name, mission='K2', author='EVEREST').download()\n",
    "clc.flux = clc.flux.value * u.electron/u.s\n",
    "clc.flux_err = clc.flux.value * u.electron/u.s\n",
    "clc = clc.flatten(51)\n",
    "clc = clc[clc.flux.value > 0.97]\n",
    "clc = clc.remove_outliers(sigma_upper=3, sigma_lower=1e2)"
   ]
  },
  {
   "cell_type": "code",
   "execution_count": null,
   "id": "52329308-084c-4505-9cb3-0cc1fc4c3467",
   "metadata": {
    "tags": []
   },
   "outputs": [],
   "source": [
    "k = np.abs(clc.fold(obs.period, obs.t0 - 2454833).time) < 0.5\n",
    "k = k[np.argsort(clc.fold(obs.period, obs.t0 - 2454833).time_original)]"
   ]
  },
  {
   "cell_type": "code",
   "execution_count": null,
   "id": "f81cdd20-24cd-4909-85a4-ab7d3e07a8b2",
   "metadata": {},
   "outputs": [],
   "source": [
    "clc.fold(obs.period, obs.t0 - 2454833).scatter()"
   ]
  },
  {
   "cell_type": "code",
   "execution_count": null,
   "id": "372d5e13-2c30-49ac-9a39-ae5f3e4c371b",
   "metadata": {},
   "outputs": [],
   "source": [
    "obs.fit_transit(x_suppl=clc.time.value[k] + 2454833,\n",
    "                y_suppl=clc.flux.value[k],\n",
    "                yerr_suppl=clc.flux_err.value[k],\n",
    "                exptime_suppl=np.median(np.diff(clc.time.value)))"
   ]
  },
  {
   "cell_type": "code",
   "execution_count": null,
   "id": "d7dda1bd-3372-40fd-94af-191d19490072",
   "metadata": {},
   "outputs": [],
   "source": [
    "obs.plot()"
   ]
  },
  {
   "cell_type": "code",
   "execution_count": null,
   "id": "5145f108-6ac6-4661-befb-5c7eb6976806",
   "metadata": {},
   "outputs": [],
   "source": [
    "obs.fit_model()"
   ]
  },
  {
   "cell_type": "code",
   "execution_count": null,
   "id": "f30a8d9e-f3c6-4a12-bb3e-75277a96b8d7",
   "metadata": {},
   "outputs": [],
   "source": [
    "obs.plot_spectra()"
   ]
  },
  {
   "cell_type": "code",
   "execution_count": null,
   "id": "090e286c-1f65-4927-bb7b-715a4417a1cc",
   "metadata": {},
   "outputs": [],
   "source": [
    "om.Spectra([visit.transmission_spectrum for visit in obs]).flatten().bin(bins=np.linspace(0.8, 1.7, 300)).plot()"
   ]
  },
  {
   "cell_type": "code",
   "execution_count": null,
   "id": "1c185bb6-65ae-46b0-a8ae-72ba3cc0db86",
   "metadata": {},
   "outputs": [],
   "source": [
    "spec = obs.stellar_spectra\n",
    "spec.plot()\n",
    "spec.hdulist.writeto(f'results/{name}_stellar_spectrum.fits', overwrite=True)"
   ]
  },
  {
   "cell_type": "code",
   "execution_count": null,
   "id": "a017cce1-0cfb-4606-9065-c3baec919844",
   "metadata": {},
   "outputs": [],
   "source": [
    "from astropy.io import fits\n",
    "try:\n",
    "    hdulist = om.Spectra([visit.transmission_spectrum for visit in obs if visit.transmission_spectrum.spec.sum() != 0]).hdulist\n",
    "    hdulist.writeto(f'results/{name}_transmission.fits', overwrite=True)\n",
    "except:\n",
    "    pass\n",
    "try:    \n",
    "    hdulist = om.Spectra([visit.emission_spectrum for visit in obs if visit.emission_spectrum.spec.sum() != 0]).hdulist\n",
    "    hdulist.writeto(f'results/{name}_emission.fits', overwrite=True)\n",
    "except:\n",
    "    pass"
   ]
  },
  {
   "cell_type": "code",
   "execution_count": null,
   "id": "5568d3d4-4228-4785-ab13-b4bb506d7503",
   "metadata": {},
   "outputs": [],
   "source": [
    "for visit in obs:\n",
    "    visit.diagnose();\n",
    "    plt.show();"
   ]
  }
 ],
 "metadata": {
  "kernelspec": {
   "display_name": "Python 3 (ipykernel)",
   "language": "python",
   "name": "python3"
  },
  "language_info": {
   "codemirror_mode": {
    "name": "ipython",
    "version": 3
   },
   "file_extension": ".py",
   "mimetype": "text/x-python",
   "name": "python",
   "nbconvert_exporter": "python",
   "pygments_lexer": "ipython3",
   "version": "3.8.7"
  }
 },
 "nbformat": 4,
 "nbformat_minor": 5
}
