{
 "cells": [
  {
   "cell_type": "markdown",
   "id": "77dd96a5-956b-4916-9ff3-2f368845fa54",
   "metadata": {},
   "source": [
    "# XO-1"
   ]
  },
  {
   "cell_type": "code",
   "execution_count": null,
   "id": "d7616c7a-37b0-47eb-a12a-8aaf39964df6",
   "metadata": {},
   "outputs": [],
   "source": [
    "import lightkurve as lk\n",
    "from glob import glob\n",
    "import ombre as om\n",
    "import numpy as np\n",
    "import matplotlib.pyplot as plt"
   ]
  },
  {
   "cell_type": "code",
   "execution_count": null,
   "id": "9c16129e-1088-4751-81b2-46bdb9bd77ef",
   "metadata": {},
   "outputs": [],
   "source": [
    "name = 'XO-1'"
   ]
  },
  {
   "cell_type": "code",
   "execution_count": null,
   "id": "90b8ed0f-b29c-4775-b074-cf84016dfd9d",
   "metadata": {},
   "outputs": [],
   "source": [
    "fnames = np.asarray(glob(f'/Users/ch/HST/data/{name}/*.fits'))\n",
    "fnames = np.sort(fnames)\n",
    "obs = om.Observation.from_files(fnames)"
   ]
  },
  {
   "cell_type": "code",
   "execution_count": null,
   "id": "230527d7-925f-4544-be03-6185731a0f2f",
   "metadata": {},
   "outputs": [],
   "source": [
    "obs"
   ]
  },
  {
   "cell_type": "code",
   "execution_count": null,
   "id": "8e78d3f5-6fe3-4db1-b3bc-13aba106b6ff",
   "metadata": {},
   "outputs": [],
   "source": [
    "clc = lk.search_lightcurve(name, mission='TESS', author='SPOC').download().remove_nans()"
   ]
  },
  {
   "cell_type": "code",
   "execution_count": null,
   "id": "372d5e13-2c30-49ac-9a39-ae5f3e4c371b",
   "metadata": {},
   "outputs": [],
   "source": [
    "obs.fit_transit(x_suppl=clc.time.value + 2457000,\n",
    "                y_suppl=clc.flux.value/np.median(clc.flux.value),\n",
    "                yerr_suppl=clc.flux_err.value/np.median(clc.flux.value),\n",
    "                exptime_suppl=np.median(np.diff(clc.time.value)))"
   ]
  },
  {
   "cell_type": "code",
   "execution_count": null,
   "id": "d7dda1bd-3372-40fd-94af-191d19490072",
   "metadata": {},
   "outputs": [],
   "source": [
    "obs.plot()"
   ]
  },
  {
   "cell_type": "code",
   "execution_count": null,
   "id": "5145f108-6ac6-4661-befb-5c7eb6976806",
   "metadata": {},
   "outputs": [],
   "source": [
    "obs.fit_model()"
   ]
  },
  {
   "cell_type": "code",
   "execution_count": null,
   "id": "090e286c-1f65-4927-bb7b-715a4417a1cc",
   "metadata": {},
   "outputs": [],
   "source": [
    "om.Spectra([visit.transmission_spectrum for visit in obs]).flatten().bin(bins=np.linspace(0.8, 1.7, 200)).plot()"
   ]
  },
  {
   "cell_type": "code",
   "execution_count": null,
   "id": "5ae927b3-b574-4578-b6f9-afaa599f429e",
   "metadata": {},
   "outputs": [],
   "source": [
    "spec = obs.stellar_spectra\n",
    "spec.plot()\n",
    "spec.hdulist.writeto(f'results/{name}_stellar_spectrum.fits', overwrite=True)"
   ]
  },
  {
   "cell_type": "code",
   "execution_count": null,
   "id": "a017cce1-0cfb-4606-9065-c3baec919844",
   "metadata": {},
   "outputs": [],
   "source": [
    "from astropy.io import fits\n",
    "try:\n",
    "    hdulist = om.Spectra([visit.transmission_spectrum for visit in obs if visit.transmission_spectrum.spec.sum() != 0]).hdulist\n",
    "    hdulist.writeto(f'results/{name}_transmission.fits', overwrite=True)\n",
    "except:\n",
    "    pass\n",
    "try:    \n",
    "    hdulist = om.Spectra([visit.emission_spectrum for visit in obs if visit.emission_spectrum.spec.sum() != 0]).hdulist\n",
    "    hdulist.writeto(f'results/{name}_emission.fits', overwrite=True)\n",
    "except:\n",
    "    pass"
   ]
  },
  {
   "cell_type": "code",
   "execution_count": null,
   "id": "356bd262-6388-411d-b53f-2a54135eb96c",
   "metadata": {},
   "outputs": [],
   "source": [
    "for visit in obs:\n",
    "    visit.diagnose();\n",
    "    plt.show();"
   ]
  }
 ],
 "metadata": {
  "kernelspec": {
   "display_name": "Python 3 (ipykernel)",
   "language": "python",
   "name": "python3"
  },
  "language_info": {
   "codemirror_mode": {
    "name": "ipython",
    "version": 3
   },
   "file_extension": ".py",
   "mimetype": "text/x-python",
   "name": "python",
   "nbconvert_exporter": "python",
   "pygments_lexer": "ipython3",
   "version": "3.8.7"
  }
 },
 "nbformat": 4,
 "nbformat_minor": 5
}
