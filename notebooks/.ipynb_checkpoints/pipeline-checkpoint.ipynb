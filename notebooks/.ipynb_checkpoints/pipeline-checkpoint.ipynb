{
 "cells": [
  {
   "cell_type": "code",
   "execution_count": 1,
   "id": "5e23f2ae-2df7-4de7-91e7-b3e026930f31",
   "metadata": {},
   "outputs": [],
   "source": [
    "import nbformat\n",
    "from nbclient import NotebookClient\n",
    "from glob import glob\n",
    "from tqdm import tqdm\n",
    "import numpy as np"
   ]
  },
  {
   "cell_type": "code",
   "execution_count": 2,
   "id": "7d4df39f-f66f-47d3-a11f-96d96d174595",
   "metadata": {},
   "outputs": [],
   "source": [
    "fnames = glob('*.ipynb')\n",
    "fnames = [fname for fname in fnames if fname != 'pipeline.ipynb']\n",
    "fnames = [fname for fname in fnames if fname != 'catalog.ipynb']\n",
    "fnames = [fname for fname in fnames if 'BORK' not in fname]\n",
    "fnames = [fname for fname in fnames if 'Untitled' not in fname]\n",
    "fnames = [fname for fname in fnames if 'IGNORE' not in fname]\n",
    "\n",
    "fnames = np.sort(fnames)[::-1]"
   ]
  },
  {
   "cell_type": "code",
   "execution_count": 3,
   "id": "737b1f6e-0e73-49d2-b144-00b50d99ba28",
   "metadata": {},
   "outputs": [
    {
     "data": {
      "text/plain": [
       "array(['XO-2.ipynb', 'XO-1.ipynb', 'WASP-96.ipynb', 'WASP-90.ipynb',\n",
       "       'WASP-80.ipynb', 'WASP-79.ipynb', 'WASP-76.ipynb', 'WASP-74.ipynb',\n",
       "       'WASP-69.ipynb', 'WASP-67.ipynb', 'WASP-63.ipynb', 'WASP-6.ipynb',\n",
       "       'WASP-52.ipynb', 'WASP-43.ipynb', 'WASP-39.ipynb', 'WASP-33.ipynb',\n",
       "       'WASP-31.ipynb', 'WASP-29.ipynb', 'WASP-18.ipynb',\n",
       "       'WASP-178.ipynb', 'WASP-17.ipynb', 'WASP-127.ipynb',\n",
       "       'WASP-121.ipynb', 'WASP-12.ipynb', 'WASP-107.ipynb',\n",
       "       'WASP-103.ipynb', 'WASP-101.ipynb', 'LHS-281.ipynb',\n",
       "       'LHS-1140.ipynb', 'KELT-7.ipynb', 'KELT-1.ipynb', 'K2-93.ipynb',\n",
       "       'K2-3.ipynb', 'K2-24.ipynb', 'K2-18.ipynb', 'HD97658.ipynb',\n",
       "       'HD93396.ipynb', 'HD3167.ipynb', 'HD209458.ipynb',\n",
       "       'HD195689.ipynb', 'HD189733.ipynb', 'HD165459.ipynb',\n",
       "       'HD106315.ipynb', 'HD-219666.ipynb', 'HD-185603B.ipynb',\n",
       "       'HD-149026.ipynb', 'HATS-7.ipynb', 'HAT-P-7.ipynb',\n",
       "       'HAT-P-41.ipynb', 'HAT-P-38.ipynb', 'HAT-P-32.ipynb',\n",
       "       'HAT-P-3.ipynb', 'HAT-P-26.ipynb', 'HAT-P-18.ipynb',\n",
       "       'HAT-P-17.ipynb', 'HAT-P-12.ipynb', 'HAT-P-11.ipynb',\n",
       "       'HAT-P-1.ipynb', 'GJ9827.ipynb', 'GJ436.ipynb', 'GJ3470.ipynb',\n",
       "       'GJ1214.ipynb', 'GJ-3053.ipynb', '55-Cancri.ipynb'], dtype='<U16')"
      ]
     },
     "execution_count": 3,
     "metadata": {},
     "output_type": "execute_result"
    }
   ],
   "source": [
    "fnames"
   ]
  },
  {
   "cell_type": "code",
   "execution_count": 4,
   "id": "2a84f1fa-b4d9-4b63-804e-b4a6ce1a843b",
   "metadata": {},
   "outputs": [],
   "source": [
    "# for dir in glob('/Volumes/Nibelheim/hst/data/*'):\n",
    "#     fnames = np.sort(glob(dir + '/*.fits'))\n",
    "#     if len(fnames) == 0:\n",
    "#         continue\n",
    "\n",
    "    \n",
    "#     pref = np.unique([f.split('/')[-1][:4] for f in fnames])\n",
    "#     masks = np.asarray([pr in f for pr in pref for f in fnames]).reshape((len(pref), len(fnames)))\n",
    "#     fig, axs = plt.subplots(1, len(pref), figsize=(len(pref)*3, 3))\n",
    "#     if not hasattr(axs, '__iter__'):\n",
    "#         axs = [axs]\n",
    "#     for ax, mask in zip(axs, masks):\n",
    "#         try:\n",
    "#             if mask.sum() == 1:\n",
    "#                 continue\n",
    "#             filter = 'F'\n",
    "#             kdx = 0\n",
    "#             while filter.startswith('F'):\n",
    "#                 fname = np.asarray(fnames)[mask][kdx]\n",
    "#                 filter = fits.getheader(fname)['FILTER']\n",
    "#                 kdx += 1\n",
    "#             ax.imshow(fits.open(fname)[1].data, vmin=0, vmax=3000)\n",
    "#             ax.set_title(dir.split('/')[-1])\n",
    "#         except:\n",
    "#             continue"
   ]
  },
  {
   "cell_type": "code",
   "execution_count": null,
   "id": "97ec2c9e-5609-40d0-a99e-06f60c4ef8c4",
   "metadata": {},
   "outputs": [
    {
     "name": "stderr",
     "output_type": "stream",
     "text": [
      "  0%|                                                    | 0/20 [00:00<?, ?it/s]"
     ]
    }
   ],
   "source": [
    "for fname in tqdm(fnames[10+18+5 + 9 + 2:]):\n",
    "    nb = nbformat.read(fname, as_version=4)\n",
    "    client = NotebookClient(nb, timeout=2*60*60, kernel_name='python3')\n",
    "    client.execute();\n",
    "    nbformat.write(nb, f'../docs/notebooks/{fname}')"
   ]
  },
  {
   "cell_type": "code",
   "execution_count": 18,
   "id": "96fe9f00-7db8-4cd5-85b4-1afc6c40617b",
   "metadata": {},
   "outputs": [
    {
     "data": {
      "text/plain": [
       "'HD-219666.ipynb'"
      ]
     },
     "execution_count": 18,
     "metadata": {},
     "output_type": "execute_result"
    }
   ],
   "source": [
    "fname"
   ]
  },
  {
   "cell_type": "code",
   "execution_count": null,
   "id": "10d6e01d-e545-41d9-87d2-96cfd179d82a",
   "metadata": {},
   "outputs": [],
   "source": []
  }
 ],
 "metadata": {
  "kernelspec": {
   "display_name": "Python 3 (ipykernel)",
   "language": "python",
   "name": "python3"
  },
  "language_info": {
   "codemirror_mode": {
    "name": "ipython",
    "version": 3
   },
   "file_extension": ".py",
   "mimetype": "text/x-python",
   "name": "python",
   "nbconvert_exporter": "python",
   "pygments_lexer": "ipython3",
   "version": "3.8.7"
  }
 },
 "nbformat": 4,
 "nbformat_minor": 5
}
