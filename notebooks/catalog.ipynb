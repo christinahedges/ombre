{
 "cells": [
  {
   "cell_type": "markdown",
   "id": "e3a1290b-85f5-4b53-88bf-9b22b09d4038",
   "metadata": {},
   "source": [
    "# Catalog of WFC3 Transmission and Emission Spectra"
   ]
  },
  {
   "cell_type": "markdown",
   "id": "c1d52d03-b5f9-4e1b-95e1-fe9163b1058c",
   "metadata": {},
   "source": [
    "In this notebook we'll look at the whole catalog of transmission and emission spectra available from HST WFC3. If there are spectra missing, you could try [opening an issue](https://github.com/christinahedges/ombre/issues/new) against `ombre`.\n",
    "\n",
    "You can see all the notebooks that make these spectra by clicking the links on the left hand side."
   ]
  },
  {
   "cell_type": "code",
   "execution_count": 1,
   "id": "9d994637-38fb-470b-8e01-f8c72693ea27",
   "metadata": {},
   "outputs": [],
   "source": [
    "%load_ext autoreload\n",
    "%autoreload 2"
   ]
  },
  {
   "cell_type": "code",
   "execution_count": 2,
   "id": "1f79644a-4ad0-4e43-a180-2d03edf515ad",
   "metadata": {},
   "outputs": [],
   "source": [
    "from ombre.query import get_nexsci"
   ]
  },
  {
   "cell_type": "code",
   "execution_count": 6,
   "id": "00a50324-5167-4923-b40c-d7a558a2ec15",
   "metadata": {},
   "outputs": [],
   "source": [
    "period, t0, duration, radius, incl, st_rad, st_mass, st_teff = get_nexsci((330.7948873328175, +18.8843189579108))"
   ]
  },
  {
   "cell_type": "code",
   "execution_count": null,
   "id": "2fdbcb6d-867e-460b-b80a-31d2db561201",
   "metadata": {},
   "outputs": [],
   "source": []
  },
  {
   "cell_type": "code",
   "execution_count": null,
   "id": "08667e40-9bbe-4b55-9278-5ade236d0a6b",
   "metadata": {},
   "outputs": [],
   "source": []
  }
 ],
 "metadata": {
  "kernelspec": {
   "display_name": "Python 3 (ipykernel)",
   "language": "python",
   "name": "python3"
  },
  "language_info": {
   "codemirror_mode": {
    "name": "ipython",
    "version": 3
   },
   "file_extension": ".py",
   "mimetype": "text/x-python",
   "name": "python",
   "nbconvert_exporter": "python",
   "pygments_lexer": "ipython3",
   "version": "3.8.7"
  }
 },
 "nbformat": 4,
 "nbformat_minor": 5
}
