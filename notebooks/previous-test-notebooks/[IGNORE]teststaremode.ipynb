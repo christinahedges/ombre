{
 "cells": [
  {
   "cell_type": "markdown",
   "id": "92b0cc7b-fcba-433c-8db2-8d43744ce014",
   "metadata": {},
   "source": [
    "# Test some stare mode data"
   ]
  },
  {
   "cell_type": "code",
   "execution_count": 1,
   "id": "adff8297-b589-43d5-9a0f-c386ae9eca2f",
   "metadata": {},
   "outputs": [],
   "source": [
    "%load_ext autoreload\n",
    "%autoreload 2"
   ]
  },
  {
   "cell_type": "code",
   "execution_count": 2,
   "id": "d7616c7a-37b0-47eb-a12a-8aaf39964df6",
   "metadata": {},
   "outputs": [],
   "source": [
    "import lightkurve as lk\n",
    "import astropy.units as u\n",
    "from astropy.io import fits\n",
    "from glob import glob\n",
    "import ombre as om\n",
    "import numpy as np\n",
    "import os\n",
    "import matplotlib.pyplot as plt"
   ]
  },
  {
   "cell_type": "code",
   "execution_count": 3,
   "id": "b751ec6c-1c50-4b92-9766-e63c33fd9869",
   "metadata": {},
   "outputs": [],
   "source": [
    "name = 'WASP-18'"
   ]
  },
  {
   "cell_type": "code",
   "execution_count": 4,
   "id": "a1e167af-f5f7-4be3-b994-7d9c2bf6ebb8",
   "metadata": {},
   "outputs": [],
   "source": [
    "fnames = np.asarray(glob(f'/Volumes/Nibelheim/hst/data/{name}/*.fits'))\n",
    "#obs = om.Observation.from_files(fnames)"
   ]
  },
  {
   "cell_type": "markdown",
   "id": "f6d881f2-7f52-4ef0-9e91-01373874958d",
   "metadata": {},
   "source": [
    "# Stare Mode Data"
   ]
  },
  {
   "cell_type": "code",
   "execution_count": 5,
   "id": "abd65665-bc68-4901-99d2-c59fa38f41d6",
   "metadata": {},
   "outputs": [],
   "source": [
    "propid = []\n",
    "times = []\n",
    "for fname in fnames:\n",
    "    if not os.path.isfile(fname): \n",
    "        continue        \n",
    "    with fits.open(fname, lazy_load_hdus=True) as hdu:\n",
    "        propid.append(hdu[0].header['PROPOSID'])\n",
    "        times.append(hdu[0].header['EXPSTART'])"
   ]
  },
  {
   "cell_type": "code",
   "execution_count": 6,
   "id": "14c57112-5a6f-43fe-9419-53e0e5dc5147",
   "metadata": {},
   "outputs": [],
   "source": [
    "propid = np.asarray(propid)\n",
    "times = np.asarray(times)\n",
    "s = np.argsort(times)\n",
    "fnames, propid, times = fnames[s], propid[s], times[s]"
   ]
  },
  {
   "cell_type": "code",
   "execution_count": 10,
   "id": "332e9ce6-814e-4d14-ac2b-db869b7546d1",
   "metadata": {},
   "outputs": [],
   "source": [
    "fnames = fnames[np.where(propid == 12181)]"
   ]
  },
  {
   "cell_type": "code",
   "execution_count": 11,
   "id": "cdd7d820-949f-4035-8286-0b943e9d39df",
   "metadata": {},
   "outputs": [
    {
     "name": "stderr",
     "output_type": "stream",
     "text": [
      "/Users/ch/HST/projects/ombre/src/ombre/visit.py:227: RuntimeWarning: divide by zero encountered in true_divide\n",
      "  w[self.err / self.sci > 0.1] = 1e10\n",
      "/Users/ch/HST/projects/ombre/src/ombre/visit.py:227: RuntimeWarning: divide by zero encountered in true_divide\n",
      "  w[self.err / self.sci > 0.1] = 1e10\n"
     ]
    }
   ],
   "source": [
    "obs = om.Observation.from_files(fnames, force=True)"
   ]
  },
  {
   "cell_type": "code",
   "execution_count": null,
   "id": "c8cf13c3-44ea-4981-be47-7446ae5de7e9",
   "metadata": {},
   "outputs": [],
   "source": [
    "clc = lk.search_lightcurve(name, author='SPOC').download_all().stitch().remove_nans()\n",
    "clc.flux = clc.flux.value * u.electron/u.s\n",
    "clc.flux_err = clc.flux_err.value * u.electron/u.s\n",
    "k = np.abs(((clc.time.value - (obs.t0 - 2457000 + obs.period/2))/obs.period) % 1 - 0.5) < 0.1\n",
    "clc[k].fold(obs.period, obs.t0 - 2457000).scatter()"
   ]
  },
  {
   "cell_type": "code",
   "execution_count": null,
   "id": "9077f0d7-9218-40a0-b179-c9d02b31868a",
   "metadata": {},
   "outputs": [],
   "source": [
    "obs.fit_transit(x_suppl=clc.time.value + 2457000,\n",
    "                y_suppl=clc.flux.value/np.median(clc.flux.value),\n",
    "                yerr_suppl=clc.flux_err.value/np.median(clc.flux.value),\n",
    "                exptime_suppl=np.median(np.diff(clc.time.value)), fit_t0=True, fit_period=True, fit_inc=True)"
   ]
  },
  {
   "cell_type": "code",
   "execution_count": null,
   "id": "5fb45d3a-cfa3-411c-8753-4f7254ff6c76",
   "metadata": {},
   "outputs": [],
   "source": [
    "obs.plot()"
   ]
  },
  {
   "cell_type": "code",
   "execution_count": null,
   "id": "5145f108-6ac6-4661-befb-5c7eb6976806",
   "metadata": {},
   "outputs": [],
   "source": [
    "obs.fit_model()"
   ]
  },
  {
   "cell_type": "code",
   "execution_count": null,
   "id": "f30a8d9e-f3c6-4a12-bb3e-75277a96b8d7",
   "metadata": {},
   "outputs": [],
   "source": [
    "om.Spectra([visit.transmission_spectrum for visit in obs]).flatten().bin(bins=np.linspace(0.8, 1.7, 200)).plot()"
   ]
  },
  {
   "cell_type": "code",
   "execution_count": null,
   "id": "d357de31-7cbd-4f12-8d03-f1ab21194b83",
   "metadata": {},
   "outputs": [],
   "source": [
    "spec = obs.stellar_spectra\n",
    "spec.plot()\n",
    "spec.hdulist.writeto(f'results/{name}_stellar_spectrum.fits', overwrite=True)"
   ]
  },
  {
   "cell_type": "code",
   "execution_count": null,
   "id": "a017cce1-0cfb-4606-9065-c3baec919844",
   "metadata": {},
   "outputs": [],
   "source": [
    "from astropy.io import fits\n",
    "try:\n",
    "    hdulist = om.Spectra([visit.transmission_spectrum for visit in obs if visit.transmission_spectrum.spec.sum() != 0]).hdulist\n",
    "    hdulist.writeto(f'results/{name}_transmission.fits', overwrite=True)\n",
    "except:\n",
    "    pass\n",
    "try:    \n",
    "    hdulist = om.Spectra([visit.emission_spectrum for visit in obs if visit.emission_spectrum.spec.sum() != 0]).hdulist\n",
    "    hdulist.writeto(f'results/{name}_emission.fits', overwrite=True)\n",
    "except:\n",
    "    pass"
   ]
  },
  {
   "cell_type": "code",
   "execution_count": null,
   "id": "67384b7f-c0ef-43f1-a990-90b888d4d63e",
   "metadata": {},
   "outputs": [],
   "source": [
    "for visit in obs:\n",
    "    visit.diagnose();\n",
    "    plt.show();"
   ]
  }
 ],
 "metadata": {
  "kernelspec": {
   "display_name": "Python 3 (ipykernel)",
   "language": "python",
   "name": "python3"
  },
  "language_info": {
   "codemirror_mode": {
    "name": "ipython",
    "version": 3
   },
   "file_extension": ".py",
   "mimetype": "text/x-python",
   "name": "python",
   "nbconvert_exporter": "python",
   "pygments_lexer": "ipython3",
   "version": "3.8.7"
  }
 },
 "nbformat": 4,
 "nbformat_minor": 5
}
