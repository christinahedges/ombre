{
 "cells": [
  {
   "cell_type": "code",
   "execution_count": 2,
   "id": "5e23f2ae-2df7-4de7-91e7-b3e026930f31",
   "metadata": {},
   "outputs": [],
   "source": [
    "import nbformat\n",
    "from nbclient import NotebookClient\n",
    "from glob import glob\n",
    "from tqdm import tqdm\n",
    "import numpy as np"
   ]
  },
  {
   "cell_type": "code",
   "execution_count": 3,
   "id": "7d4df39f-f66f-47d3-a11f-96d96d174595",
   "metadata": {},
   "outputs": [],
   "source": [
    "fnames = glob('*.ipynb')\n",
    "fnames = [fname for fname in fnames if fname != 'pipeline.ipynb']\n",
    "fnames = [fname for fname in fnames if fname != 'catalog.ipynb']\n",
    "fnames = [fname for fname in fnames if 'BORK' not in fname]\n",
    "\n",
    "fnames = np.sort(fnames)[::-1]"
   ]
  },
  {
   "cell_type": "code",
   "execution_count": null,
   "id": "ae4d72f3-fd40-4e6f-87c0-ccaa4cfcccd6",
   "metadata": {},
   "outputs": [],
   "source": []
  },
  {
   "cell_type": "code",
   "execution_count": null,
   "id": "97ec2c9e-5609-40d0-a99e-06f60c4ef8c4",
   "metadata": {},
   "outputs": [
    {
     "name": "stderr",
     "output_type": "stream",
     "text": [
      "  0%|                                                                                        | 0/1 [00:00<?, ?it/s]"
     ]
    }
   ],
   "source": [
    "for fname in tqdm(fnames[-1:]):\n",
    "    nb = nbformat.read(fname, as_version=4)\n",
    "    client = NotebookClient(nb, timeout=60*60, kernel_name='python3')\n",
    "    client.execute();\n",
    "    nbformat.write(nb, f'../docs/notebooks/{fname}')"
   ]
  },
  {
   "cell_type": "markdown",
   "id": "d38a163e-4d52-4249-9e59-96875b56559c",
   "metadata": {},
   "source": [
    "HAT-P-1 breaking"
   ]
  },
  {
   "cell_type": "code",
   "execution_count": null,
   "id": "f52d2c85-459c-47be-a09d-fcb1d1ca2edc",
   "metadata": {},
   "outputs": [],
   "source": []
  },
  {
   "cell_type": "code",
   "execution_count": null,
   "id": "80c5d810-42a6-4ea2-8d63-58044641fb19",
   "metadata": {},
   "outputs": [],
   "source": []
  }
 ],
 "metadata": {
  "kernelspec": {
   "display_name": "Python 3 (ipykernel)",
   "language": "python",
   "name": "python3"
  },
  "language_info": {
   "codemirror_mode": {
    "name": "ipython",
    "version": 3
   },
   "file_extension": ".py",
   "mimetype": "text/x-python",
   "name": "python",
   "nbconvert_exporter": "python",
   "pygments_lexer": "ipython3",
   "version": "3.8.7"
  }
 },
 "nbformat": 4,
 "nbformat_minor": 5
}
