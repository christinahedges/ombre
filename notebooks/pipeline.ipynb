{
 "cells": [
  {
   "cell_type": "code",
   "execution_count": 1,
   "id": "5e23f2ae-2df7-4de7-91e7-b3e026930f31",
   "metadata": {},
   "outputs": [],
   "source": [
    "import nbformat\n",
    "from nbclient import NotebookClient\n",
    "from glob import glob\n",
    "from tqdm import tqdm\n",
    "import numpy as np"
   ]
  },
  {
   "cell_type": "code",
   "execution_count": 6,
   "id": "7d4df39f-f66f-47d3-a11f-96d96d174595",
   "metadata": {},
   "outputs": [],
   "source": [
    "fnames = glob('*.ipynb')\n",
    "fnames = [fname for fname in fnames if fname != 'pipeline.ipynb']\n",
    "fnames = [fname for fname in fnames if fname != 'catalog.ipynb']\n",
    "fnames = [fname for fname in fnames if '[' not in fname]\n",
    "fnames = np.sort(fnames)[::-1]"
   ]
  },
  {
   "cell_type": "code",
   "execution_count": 7,
   "id": "737b1f6e-0e73-49d2-b144-00b50d99ba28",
   "metadata": {},
   "outputs": [
    {
     "data": {
      "text/plain": [
       "array(['XO-2.ipynb', 'XO-1.ipynb', 'WASP-96.ipynb', 'WASP-90.ipynb',\n",
       "       'WASP-80.ipynb', 'WASP-79.ipynb', 'WASP-76.ipynb', 'WASP-74.ipynb',\n",
       "       'WASP-69.ipynb', 'WASP-67.ipynb', 'WASP-63.ipynb', 'WASP-6.ipynb',\n",
       "       'WASP-52.ipynb', 'WASP-43.ipynb', 'WASP-39.ipynb', 'WASP-33.ipynb',\n",
       "       'WASP-31.ipynb', 'WASP-29.ipynb', 'WASP-18.ipynb',\n",
       "       'WASP-178.ipynb', 'WASP-17.ipynb', 'WASP-127.ipynb',\n",
       "       'WASP-121.ipynb', 'WASP-12.ipynb', 'WASP-107.ipynb',\n",
       "       'WASP-103.ipynb', 'WASP-101.ipynb', 'Untitled3.ipynb',\n",
       "       'Untitled2.ipynb', 'Untitled1.ipynb', 'Untitled.ipynb',\n",
       "       'LHS-281.ipynb', 'LHS-1140.ipynb', 'KELT-7.ipynb', 'KELT-1.ipynb',\n",
       "       'K2-93.ipynb', 'K2-3.ipynb', 'K2-24.ipynb', 'K2-18.ipynb',\n",
       "       'HD97658.ipynb', 'HD93396.ipynb', 'HD3167.ipynb', 'HD209458.ipynb',\n",
       "       'HD195689.ipynb', 'HD189733.ipynb', 'HD165459.ipynb',\n",
       "       'HD106315.ipynb', 'HD-219666.ipynb', 'HD-149026.ipynb',\n",
       "       'HATS-7.ipynb', 'HAT-P-70B.ipynb', 'HAT-P-7.ipynb',\n",
       "       'HAT-P-41.ipynb', 'HAT-P-38.ipynb', 'HAT-P-32.ipynb',\n",
       "       'HAT-P-3.ipynb', 'HAT-P-26.ipynb', 'HAT-P-18.ipynb',\n",
       "       'HAT-P-17.ipynb', 'HAT-P-12.ipynb', 'HAT-P-11.ipynb',\n",
       "       'HAT-P-1.ipynb', 'GJ9827.ipynb', 'GJ436.ipynb', 'GJ3470.ipynb',\n",
       "       'GJ1214.ipynb', 'GJ-3053.ipynb', '55-Cancri.ipynb'], dtype='<U15')"
      ]
     },
     "execution_count": 7,
     "metadata": {},
     "output_type": "execute_result"
    }
   ],
   "source": [
    "fnames"
   ]
  },
  {
   "cell_type": "code",
   "execution_count": 4,
   "id": "2a84f1fa-b4d9-4b63-804e-b4a6ce1a843b",
   "metadata": {},
   "outputs": [],
   "source": [
    "# for dir in glob('/Volumes/Nibelheim/hst/data/*'):\n",
    "#     fnames = np.sort(glob(dir + '/*.fits'))\n",
    "#     if len(fnames) == 0:\n",
    "#         continue\n",
    "\n",
    "    \n",
    "#     pref = np.unique([f.split('/')[-1][:4] for f in fnames])\n",
    "#     masks = np.asarray([pr in f for pr in pref for f in fnames]).reshape((len(pref), len(fnames)))\n",
    "#     fig, axs = plt.subplots(1, len(pref), figsize=(len(pref)*3, 3))\n",
    "#     if not hasattr(axs, '__iter__'):\n",
    "#         axs = [axs]\n",
    "#     for ax, mask in zip(axs, masks):\n",
    "#         try:\n",
    "#             if mask.sum() == 1:\n",
    "#                 continue\n",
    "#             filter = 'F'\n",
    "#             kdx = 0\n",
    "#             while filter.startswith('F'):\n",
    "#                 fname = np.asarray(fnames)[mask][kdx]\n",
    "#                 filter = fits.getheader(fname)['FILTER']\n",
    "#                 kdx += 1\n",
    "#             ax.imshow(fits.open(fname)[1].data, vmin=0, vmax=3000)\n",
    "#             ax.set_title(dir.split('/')[-1])\n",
    "#         except:\n",
    "#             continue"
   ]
  },
  {
   "cell_type": "code",
   "execution_count": 5,
   "id": "97ec2c9e-5609-40d0-a99e-06f60c4ef8c4",
   "metadata": {},
   "outputs": [
    {
     "name": "stderr",
     "output_type": "stream",
     "text": [
      "  2%|▋                                         | 1/65 [00:59<1:03:10, 59.22s/it]"
     ]
    },
    {
     "name": "stdout",
     "output_type": "stream",
     "text": [
      "[LOSTFINEPOINT]HD-185603B.ipynb\n"
     ]
    },
    {
     "name": "stderr",
     "output_type": "stream",
     "text": [
      " 45%|████████████████▉                     | 29/65 [1:16:58<2:09:53, 216.50s/it]"
     ]
    },
    {
     "name": "stdout",
     "output_type": "stream",
     "text": [
      "LHS-281.ipynb\n"
     ]
    },
    {
     "name": "stderr",
     "output_type": "stream",
     "text": [
      " 51%|███████████████████▎                  | 33/65 [1:29:10<1:35:04, 178.27s/it]"
     ]
    },
    {
     "name": "stdout",
     "output_type": "stream",
     "text": [
      "K2-93.ipynb\n"
     ]
    },
    {
     "name": "stderr",
     "output_type": "stream",
     "text": [
      " 52%|███████████████████▉                  | 34/65 [1:29:59<1:12:08, 139.63s/it]"
     ]
    },
    {
     "name": "stdout",
     "output_type": "stream",
     "text": [
      "K2-3.ipynb\n"
     ]
    },
    {
     "name": "stderr",
     "output_type": "stream",
     "text": [
      " 54%|█████████████████████▌                  | 35/65 [1:30:33<53:50, 107.70s/it]"
     ]
    },
    {
     "name": "stdout",
     "output_type": "stream",
     "text": [
      "K2-24.ipynb\n"
     ]
    },
    {
     "name": "stderr",
     "output_type": "stream",
     "text": [
      " 68%|█████████████████████████▋            | 44/65 [2:27:38<1:13:17, 209.39s/it]"
     ]
    },
    {
     "name": "stdout",
     "output_type": "stream",
     "text": [
      "HD106315.ipynb\n"
     ]
    },
    {
     "name": "stderr",
     "output_type": "stream",
     "text": [
      " 69%|███████████████████████████▋            | 45/65 [2:28:01<51:10, 153.52s/it]"
     ]
    },
    {
     "name": "stdout",
     "output_type": "stream",
     "text": [
      "HD-219666.ipynb\n"
     ]
    },
    {
     "name": "stderr",
     "output_type": "stream",
     "text": [
      " 71%|████████████████████████████▎           | 46/65 [2:28:27<36:31, 115.34s/it]"
     ]
    },
    {
     "name": "stdout",
     "output_type": "stream",
     "text": [
      "HD-149026.ipynb\n"
     ]
    },
    {
     "name": "stderr",
     "output_type": "stream",
     "text": [
      " 97%|██████████████████████████████████████▊ | 63/65 [3:13:16<06:35, 197.71s/it]"
     ]
    },
    {
     "name": "stdout",
     "output_type": "stream",
     "text": [
      "GJ1214.ipynb\n"
     ]
    },
    {
     "name": "stderr",
     "output_type": "stream",
     "text": [
      "100%|████████████████████████████████████████| 65/65 [3:32:04<00:00, 195.76s/it]\n"
     ]
    }
   ],
   "source": [
    "for fname in tqdm(fnames):\n",
    "    try:\n",
    "        nb = nbformat.read(fname, as_version=4)\n",
    "        client = NotebookClient(nb, timeout=2*60*60, kernel_name='python3')\n",
    "        client.execute();\n",
    "        nbformat.write(nb, f'../docs/notebooks/{fname}')\n",
    "    except:\n",
    "        print(fname)\n",
    "        continue"
   ]
  },
  {
   "cell_type": "code",
   "execution_count": 20,
   "id": "96fe9f00-7db8-4cd5-85b4-1afc6c40617b",
   "metadata": {},
   "outputs": [
    {
     "data": {
      "text/plain": [
       "'HD-185603B.ipynb'"
      ]
     },
     "execution_count": 20,
     "metadata": {},
     "output_type": "execute_result"
    }
   ],
   "source": [
    "fname"
   ]
  },
  {
   "cell_type": "code",
   "execution_count": null,
   "id": "10d6e01d-e545-41d9-87d2-96cfd179d82a",
   "metadata": {},
   "outputs": [],
   "source": []
  }
 ],
 "metadata": {
  "kernelspec": {
   "display_name": "Python 3 (ipykernel)",
   "language": "python",
   "name": "python3"
  },
  "language_info": {
   "codemirror_mode": {
    "name": "ipython",
    "version": 3
   },
   "file_extension": ".py",
   "mimetype": "text/x-python",
   "name": "python",
   "nbconvert_exporter": "python",
   "pygments_lexer": "ipython3",
   "version": "3.8.7"
  }
 },
 "nbformat": 4,
 "nbformat_minor": 5
}
