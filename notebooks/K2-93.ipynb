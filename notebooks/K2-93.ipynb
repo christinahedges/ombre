{
 "cells": [
  {
   "cell_type": "markdown",
   "id": "37118872-c0ee-42f1-acfa-46898db8b3c7",
   "metadata": {},
   "source": [
    "# K2-93"
   ]
  },
  {
   "cell_type": "code",
   "execution_count": 1,
   "id": "345fda04-a2e0-407f-b74d-6783a41a2a01",
   "metadata": {},
   "outputs": [],
   "source": [
    "%load_ext autoreload\n",
    "%autoreload 2"
   ]
  },
  {
   "cell_type": "code",
   "execution_count": 2,
   "id": "d7616c7a-37b0-47eb-a12a-8aaf39964df6",
   "metadata": {},
   "outputs": [],
   "source": [
    "import lightkurve as lk\n",
    "from glob import glob\n",
    "import ombre as om\n",
    "import numpy as np\n",
    "import matplotlib.pyplot as plt\n",
    "import astropy.units as u"
   ]
  },
  {
   "cell_type": "code",
   "execution_count": 3,
   "id": "28f0a112-d1dc-48c1-b255-92848c9119a7",
   "metadata": {},
   "outputs": [],
   "source": [
    "name = 'HIP-41378'"
   ]
  },
  {
   "cell_type": "code",
   "execution_count": 4,
   "id": "90b8ed0f-b29c-4775-b074-cf84016dfd9d",
   "metadata": {},
   "outputs": [],
   "source": [
    "fnames = np.asarray(glob(f'/Volumes/Nibelheim/hst/data/{name}/*.fits'))"
   ]
  },
  {
   "cell_type": "code",
   "execution_count": 5,
   "id": "2545fb6b-1b8a-46e0-9824-d443fc3615cc",
   "metadata": {},
   "outputs": [
    {
     "data": {
      "text/plain": [
       "364"
      ]
     },
     "execution_count": 5,
     "metadata": {},
     "output_type": "execute_result"
    }
   ],
   "source": [
    "len(fnames)"
   ]
  },
  {
   "cell_type": "code",
   "execution_count": null,
   "id": "5c52df3a-4b97-406a-a2f1-3345c5768bfa",
   "metadata": {},
   "outputs": [],
   "source": [
    "obs = om.Observation.from_files(fnames, planet_letter='b')"
   ]
  },
  {
   "cell_type": "code",
   "execution_count": null,
   "id": "e5a9c60f-d824-4afa-a742-20b520ad5d38",
   "metadata": {},
   "outputs": [],
   "source": [
    "obs.plot()"
   ]
  },
  {
   "cell_type": "code",
   "execution_count": null,
   "id": "9077f0d7-9218-40a0-b179-c9d02b31868a",
   "metadata": {},
   "outputs": [],
   "source": [
    "obs.fit_transit(fit_t0=True, fit_period=True, fit_inc=True)"
   ]
  },
  {
   "cell_type": "code",
   "execution_count": null,
   "id": "5d5dba6e-2ac2-4f71-b515-2f68d1b53269",
   "metadata": {},
   "outputs": [],
   "source": [
    "obs.plot()"
   ]
  },
  {
   "cell_type": "code",
   "execution_count": null,
   "id": "5145f108-6ac6-4661-befb-5c7eb6976806",
   "metadata": {},
   "outputs": [],
   "source": [
    "obs.fit_model()"
   ]
  },
  {
   "cell_type": "code",
   "execution_count": null,
   "id": "cd4a4fd6-fbe3-4d66-8f34-4274585574a0",
   "metadata": {},
   "outputs": [],
   "source": [
    "spec = obs.stellar_spectra\n",
    "spec.plot()\n",
    "spec.hdulist.writeto(f'results/{name}_stellar_spectrum.fits', overwrite=True)"
   ]
  },
  {
   "cell_type": "code",
   "execution_count": null,
   "id": "f30a8d9e-f3c6-4a12-bb3e-75277a96b8d7",
   "metadata": {},
   "outputs": [],
   "source": [
    "obs.plot_spectra()"
   ]
  },
  {
   "cell_type": "code",
   "execution_count": null,
   "id": "3f0aae9a-1dc6-4d31-a31e-e7713df36c2a",
   "metadata": {},
   "outputs": [],
   "source": [
    "ax = om.Spectra([visit.transmission_spectrum for visit in obs]).flatten().bin(bins=np.linspace(0.8, 1.7, 150)).plot()\n",
    "ax.set(title='WASP-107 Transmission Spectrum')"
   ]
  },
  {
   "cell_type": "code",
   "execution_count": null,
   "id": "a017cce1-0cfb-4606-9065-c3baec919844",
   "metadata": {},
   "outputs": [],
   "source": [
    "from astropy.io import fits\n",
    "try:\n",
    "    hdulist = om.Spectra([visit.transmission_spectrum for visit in obs if visit.transmission_spectrum.spec.sum() != 0]).hdulist\n",
    "    hdulist.writeto(f'results/{name}_transmission.fits')\n",
    "except:\n",
    "    pass\n",
    "try:    \n",
    "    hdulist = om.Spectra([visit.emission_spectrum for visit in obs if visit.emission_spectrum.spec.sum() != 0]).hdulist\n",
    "    hdulist.writeto(f'results/{name}_emission.fits')\n",
    "except:\n",
    "    pass"
   ]
  },
  {
   "cell_type": "code",
   "execution_count": null,
   "id": "356bd262-6388-411d-b53f-2a54135eb96c",
   "metadata": {},
   "outputs": [],
   "source": [
    "for visit in obs:\n",
    "    visit.diagnose();\n",
    "    plt.show();"
   ]
  },
  {
   "cell_type": "code",
   "execution_count": null,
   "id": "f8080d81-82da-47d7-92ec-bd65a8298013",
   "metadata": {},
   "outputs": [],
   "source": []
  },
  {
   "cell_type": "code",
   "execution_count": null,
   "id": "741582f3-ba7d-405d-88a7-29ba97bb7ba9",
   "metadata": {},
   "outputs": [],
   "source": []
  }
 ],
 "metadata": {
  "kernelspec": {
   "display_name": "Python 3 (ipykernel)",
   "language": "python",
   "name": "python3"
  },
  "language_info": {
   "codemirror_mode": {
    "name": "ipython",
    "version": 3
   },
   "file_extension": ".py",
   "mimetype": "text/x-python",
   "name": "python",
   "nbconvert_exporter": "python",
   "pygments_lexer": "ipython3",
   "version": "3.8.7"
  }
 },
 "nbformat": 4,
 "nbformat_minor": 5
}
