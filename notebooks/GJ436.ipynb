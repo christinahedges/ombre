{
 "cells": [
  {
   "cell_type": "markdown",
   "id": "e795fb89-531b-4feb-b957-ef3b8aa38660",
   "metadata": {},
   "source": [
    "# GJ436"
   ]
  },
  {
   "cell_type": "code",
   "execution_count": null,
   "id": "d7616c7a-37b0-47eb-a12a-8aaf39964df6",
   "metadata": {},
   "outputs": [],
   "source": [
    "from glob import glob\n",
    "import ombre as om\n",
    "import numpy as np\n",
    "import matplotlib.pyplot as plt"
   ]
  },
  {
   "cell_type": "code",
   "execution_count": null,
   "id": "90b8ed0f-b29c-4775-b074-cf84016dfd9d",
   "metadata": {},
   "outputs": [],
   "source": [
    "name = 'GJ436'\n",
    "fnames = np.asarray(glob(f'/Users/ch/HST/data/{name}/*.fits'))\n",
    "obs = om.Observation.from_files(fnames)"
   ]
  },
  {
   "cell_type": "code",
   "execution_count": null,
   "id": "566c00d2-e991-484a-8cbf-eca31564a9c3",
   "metadata": {},
   "outputs": [],
   "source": [
    "import lightkurve as lk\n",
    "clc = lk.search_lightcurve(name, mission='TESS', author='SPOC').download_all().stitch().remove_nans()"
   ]
  },
  {
   "cell_type": "code",
   "execution_count": null,
   "id": "ab6d5269-f5b5-446f-9c46-942aefc7d301",
   "metadata": {},
   "outputs": [],
   "source": [
    "obs"
   ]
  },
  {
   "cell_type": "code",
   "execution_count": null,
   "id": "9077f0d7-9218-40a0-b179-c9d02b31868a",
   "metadata": {},
   "outputs": [],
   "source": [
    "obs.fit_transit(x_suppl=clc.time.value + 2457000,\n",
    "                y_suppl=clc.flux.value/np.median(clc.flux.value),\n",
    "                yerr_suppl=clc.flux_err.value/np.median(clc.flux.value),\n",
    "                exptime_suppl=np.median(np.diff(clc.time.value)))"
   ]
  },
  {
   "cell_type": "code",
   "execution_count": null,
   "id": "5fb45d3a-cfa3-411c-8753-4f7254ff6c76",
   "metadata": {},
   "outputs": [],
   "source": [
    "obs.plot()"
   ]
  },
  {
   "cell_type": "code",
   "execution_count": null,
   "id": "5145f108-6ac6-4661-befb-5c7eb6976806",
   "metadata": {},
   "outputs": [],
   "source": [
    "obs.fit_model()"
   ]
  },
  {
   "cell_type": "code",
   "execution_count": null,
   "id": "f30a8d9e-f3c6-4a12-bb3e-75277a96b8d7",
   "metadata": {},
   "outputs": [],
   "source": [
    "obs.plot_spectra()"
   ]
  },
  {
   "cell_type": "code",
   "execution_count": null,
   "id": "090e286c-1f65-4927-bb7b-715a4417a1cc",
   "metadata": {},
   "outputs": [],
   "source": [
    "om.Spectra([visit.transmission_spectrum for visit in obs]).flatten().bin(bins=np.linspace(0.8, 1.7, 200)).plot()"
   ]
  },
  {
   "cell_type": "code",
   "execution_count": null,
   "id": "f626bb75-1f1a-4131-86fe-b72b327fe558",
   "metadata": {},
   "outputs": [],
   "source": [
    "spec = obs.stellar_spectra\n",
    "spec.plot()\n",
    "spec.hdulist.writeto(f'results/{name}_stellar_spectrum.fits', overwrite=True)"
   ]
  },
  {
   "cell_type": "code",
   "execution_count": null,
   "id": "a017cce1-0cfb-4606-9065-c3baec919844",
   "metadata": {},
   "outputs": [],
   "source": [
    "from astropy.io import fits\n",
    "try:\n",
    "    hdulist = om.Spectra([visit.transmission_spectrum for visit in obs if visit.transmission_spectrum.spec.sum() != 0]).hdulist\n",
    "    hdulist.writeto(f'results/{name}_transmission.fits')\n",
    "except:\n",
    "    pass\n",
    "try:    \n",
    "    hdulist = om.Spectra([visit.emission_spectrum for visit in obs if visit.emission_spectrum.spec.sum() != 0]).hdulist\n",
    "    hdulist.writeto(f'results/{name}_emission.fits')\n",
    "except:\n",
    "    pass"
   ]
  },
  {
   "cell_type": "code",
   "execution_count": null,
   "id": "356bd262-6388-411d-b53f-2a54135eb96c",
   "metadata": {},
   "outputs": [],
   "source": [
    "for visit in obs:\n",
    "    visit.diagnose();\n",
    "    plt.show();"
   ]
  }
 ],
 "metadata": {
  "kernelspec": {
   "display_name": "Python 3 (ipykernel)",
   "language": "python",
   "name": "python3"
  },
  "language_info": {
   "codemirror_mode": {
    "name": "ipython",
    "version": 3
   },
   "file_extension": ".py",
   "mimetype": "text/x-python",
   "name": "python",
   "nbconvert_exporter": "python",
   "pygments_lexer": "ipython3",
   "version": "3.8.7"
  }
 },
 "nbformat": 4,
 "nbformat_minor": 5
}
