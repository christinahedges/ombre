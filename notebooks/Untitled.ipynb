{
 "cells": [
  {
   "cell_type": "code",
   "execution_count": 1,
   "id": "3392acde-61f8-49f0-98ef-0538e73b55a6",
   "metadata": {},
   "outputs": [],
   "source": [
    "import pandas as pd\n",
    "import numpy as np\n",
    "from astroquery.simbad import Simbad\n",
    "from astropy.coordinates import SkyCoord"
   ]
  },
  {
   "cell_type": "code",
   "execution_count": 9,
   "id": "a3cc45e6-c140-4653-a77e-5b46bffdfdc1",
   "metadata": {},
   "outputs": [],
   "source": [
    "df = pd.read_csv('catalog.csv')[1:].reset_index(drop=True)\n",
    "df = df.groupby(['Target Name']).first()"
   ]
  },
  {
   "cell_type": "code",
   "execution_count": 10,
   "id": "ef2d85e4-0379-4f01-b210-16615497cef2",
   "metadata": {},
   "outputs": [],
   "source": [
    "cs = [SkyCoord(*np.asarray(df[['RA (J2000)', 'Dec (J2000)']].iloc[idx]), unit=('hourangle', 'deg')) for idx in range(len(df))]"
   ]
  },
  {
   "cell_type": "code",
   "execution_count": 28,
   "id": "7042e388-9a9d-4f2d-9de0-ea4cbe0deaee",
   "metadata": {},
   "outputs": [],
   "source": [
    "names = ['2MASS-J19432996+5059289',\n",
    "'CD-38-15670',\n",
    "'CD-50-714',\n",
    "'EPIC-2037B',\n",
    "'G191B2B',\n",
    "'GJ-3053',\n",
    "'WASP-62',\n",
    "'WASP-74',\n",
    "'WASP-77A',\n",
    "'XO-2',\n",
    "'V-AU-MIC-1',\n",
    "'USCO-161014.75-191909.3',\n",
    "'TOI674',\n",
    "#'TOI270',\n",
    "#'HD 37962',\n",
    "'LTT-1445A',\n",
    "'LHS-6343',\n",
    "'L-248-27',\n",
    "'HAT-P-2', 'HAT-P-7',\n",
    "       'HAT-P-70B', 'HATS-7', 'HD-116405', 'HD-134004', 'HD-15082',\n",
    "       'HD-165459', 'HD-185603B', 'HD-195689', 'HD-205905', 'HD-219666',\n",
    "       'HD-27836', 'HD-37725', 'HD-38949', 'HD-60753', 'HD-93521', 'HIP-41378',\n",
    "       'HIP41378', 'HR-7018', 'K2-3', 'KELT-1', 'KELT-7', 'KEPLER-138',\n",
    "       'KEPLER-16', 'KEPLER-79']"
   ]
  },
  {
   "cell_type": "code",
   "execution_count": 29,
   "id": "8c44ac77-2e27-48c3-886f-b2a67890cb00",
   "metadata": {},
   "outputs": [
    {
     "data": {
      "text/plain": [
       "array([], dtype='<U23')"
      ]
     },
     "execution_count": 29,
     "metadata": {},
     "output_type": "execute_result"
    }
   ],
   "source": [
    "np.asarray(names)[~np.in1d(names, list(df.index))]"
   ]
  },
  {
   "cell_type": "code",
   "execution_count": 33,
   "id": "0b91cda0-b9dc-4c7a-b97d-2cf6f95ae579",
   "metadata": {},
   "outputs": [],
   "source": [
    "oknames = np.asarray(names)[np.asarray(df[np.in1d(list(df.index), names)]['Proposal ID'], int) < 16000]"
   ]
  },
  {
   "cell_type": "code",
   "execution_count": null,
   "id": "395f0d37-70b0-4cc6-bcce-e89b1ec84ebd",
   "metadata": {},
   "outputs": [],
   "source": []
  },
  {
   "cell_type": "code",
   "execution_count": 35,
   "id": "2291dc46-bd93-4056-b666-b53043d40f8e",
   "metadata": {},
   "outputs": [],
   "source": [
    "import ombre as om\n",
    "import os\n",
    "import shutil\n",
    "from glob import glob"
   ]
  },
  {
   "cell_type": "code",
   "execution_count": 36,
   "id": "9593a81f-3e55-45f6-b6bc-670ea45007ac",
   "metadata": {},
   "outputs": [
    {
     "name": "stdout",
     "output_type": "stream",
     "text": [
      "2MASS-J19432996+5059289 343\n",
      "CD-50-714 212\n",
      "EPIC-2037B 188\n",
      "G191B2B 61\n",
      "GJ-3053 0\n",
      "WASP-74 0\n",
      "XO-2 0\n",
      "V-AU-MIC-1 0\n",
      "TOI674 0\n",
      "LTT-1445A 0\n",
      "L-248-27 0\n",
      "HAT-P-2 279\n",
      "HAT-P-7 880\n",
      "HAT-P-70B 71\n",
      "HATS-7 80\n",
      "HD-116405 7\n",
      "HD-134004 150\n",
      "HD-15082 66\n",
      "HD-165459 494\n",
      "HD-195689 0\n",
      "HD-205905 0\n",
      "HD-219666 0\n",
      "HD-27836 13\n",
      "HD-37725 8\n",
      "HD-38949 2\n",
      "HD-60753 2\n",
      "HIP-41378 364\n",
      "HR-7018 6\n",
      "K2-3 0\n",
      "KELT-1 0\n",
      "KELT-7 0\n",
      "KEPLER-138 0\n",
      "KEPLER-79 0\n"
     ]
    }
   ],
   "source": [
    "for name in oknames:\n",
    "    if not os.path.isdir(f'/Volumes/Nibelheim/hst/data/{name}'):\n",
    "        os.mkdir(f'/Volumes/Nibelheim/hst/data/{name}')\n",
    "    fnames = glob(f'/Volumes/Nibelheim/hst/data/{name}/*')\n",
    "    print(name, len(fnames))"
   ]
  },
  {
   "cell_type": "code",
   "execution_count": null,
   "id": "c58d6b55-3a2f-4f03-8b57-313e920d4cf4",
   "metadata": {},
   "outputs": [],
   "source": [
    "%%capture --no-stderr\n",
    "for name in oknames:\n",
    "    paths = om.query.download_target(name, download_dir='/Volumes/Nibelheim/hst/ombre-cache/')\n",
    "    [shutil.move(p, f'/Volumes/Nibelheim/hst/data/{name}') for p in paths]"
   ]
  },
  {
   "cell_type": "code",
   "execution_count": null,
   "id": "436ddaf5-af62-4e97-82c7-a36622e39e5e",
   "metadata": {},
   "outputs": [],
   "source": []
  },
  {
   "cell_type": "code",
   "execution_count": null,
   "id": "622eadc1-5c4b-4f28-a6ac-526b78293c69",
   "metadata": {},
   "outputs": [],
   "source": []
  },
  {
   "cell_type": "code",
   "execution_count": 89,
   "id": "e3cd2c7e-b198-40c7-8a46-9965c832034e",
   "metadata": {},
   "outputs": [],
   "source": [
    "planets = [d[0].lower().replace('#', '').replace('_', '').replace('-', '').replace(' ', '') for d in np.asarray(pd.read_csv('planet_names.txt'))]"
   ]
  },
  {
   "cell_type": "code",
   "execution_count": 99,
   "id": "7d9d1703-97e0-408e-a4fb-6b4755bfdb73",
   "metadata": {},
   "outputs": [],
   "source": [
    "sources = [d.lower().replace('#', '').replace('_', '').replace('-', '').replace(' ', '') for d in list(df.index)]"
   ]
  },
  {
   "cell_type": "code",
   "execution_count": null,
   "id": "fd3b5559-6a24-485e-bbf6-3c0853dc7c08",
   "metadata": {},
   "outputs": [],
   "source": []
  },
  {
   "cell_type": "code",
   "execution_count": 163,
   "id": "8a9fac21-e202-4382-9d70-c88ce1a72413",
   "metadata": {},
   "outputs": [
    {
     "data": {
      "text/html": [
       "<i>Table length=3</i>\n",
       "<table id=\"table4874742608\" class=\"table-striped table-bordered table-condensed\">\n",
       "<thead><tr><th>MAIN_ID</th><th>RA</th><th>DEC</th><th>RA_PREC</th><th>DEC_PREC</th><th>COO_ERR_MAJA</th><th>COO_ERR_MINA</th><th>COO_ERR_ANGLE</th><th>COO_QUAL</th><th>COO_WAVELENGTH</th><th>COO_BIBCODE</th><th>SCRIPT_NUMBER_ID</th></tr></thead>\n",
       "<thead><tr><th></th><th>&quot;h:m:s&quot;</th><th>&quot;d:m:s&quot;</th><th></th><th></th><th>mas</th><th>mas</th><th>deg</th><th></th><th></th><th></th><th></th></tr></thead>\n",
       "<thead><tr><th>object</th><th>str13</th><th>str13</th><th>int16</th><th>int16</th><th>float32</th><th>float32</th><th>int16</th><th>str1</th><th>str1</th><th>object</th><th>int32</th></tr></thead>\n",
       "<tr><td>HATS-7</td><td>13 55 25.6669</td><td>-21 12 27.722</td><td>14</td><td>14</td><td>0.026</td><td>0.019</td><td>90</td><td>A</td><td>O</td><td>2018yCat.1345....0G</td><td>1</td></tr>\n",
       "<tr><td>HATS-7b</td><td>13 55 25.6669</td><td>-21 12 27.722</td><td>14</td><td>14</td><td>0.026</td><td>0.019</td><td>90</td><td>A</td><td>O</td><td>2018yCat.1345....0G</td><td>1</td></tr>\n",
       "<tr><td>Gaia DR2 6288856836117001088</td><td>13 55 20.4472</td><td>-21 13 57.946</td><td>14</td><td>14</td><td>0.978</td><td>0.882</td><td>90</td><td>A</td><td>O</td><td>2018yCat.1345....0G</td><td>1</td></tr>\n",
       "</table>"
      ],
      "text/plain": [
       "<Table length=3>\n",
       "          MAIN_ID                  RA      ... SCRIPT_NUMBER_ID\n",
       "                                \"h:m:s\"    ...                 \n",
       "           object                str13     ...      int32      \n",
       "---------------------------- ------------- ... ----------------\n",
       "                      HATS-7 13 55 25.6669 ...                1\n",
       "                     HATS-7b 13 55 25.6669 ...                1\n",
       "Gaia DR2 6288856836117001088 13 55 20.4472 ...                1"
      ]
     },
     "execution_count": 163,
     "metadata": {},
     "output_type": "execute_result"
    }
   ],
   "source": [
    "Simbad.query_region(np.asarray(cs)[~np.in1d(sources, planets)][19])"
   ]
  },
  {
   "cell_type": "code",
   "execution_count": 22,
   "id": "9d7b61e6-bb0c-4472-aaaf-ec800e1eb74f",
   "metadata": {},
   "outputs": [
    {
     "data": {
      "text/plain": [
       "array(['180227', '2MASS-J00041112-4721382', '2MASS-J16371556+0711000',\n",
       "       '2MASS-J19432996+5059289', '2MASS-J23062928-0502285',\n",
       "       '2MASS-J23122061+1046340', '55-CANCRI', '55-CNC', 'BD-02-5958',\n",
       "       'CD-38-15670', 'CD-50-714', 'EPIC-2037B', 'EPIC201912552',\n",
       "       'G191B2B', 'GJ-1214', 'GJ-1214-FEB2018', 'GJ-3053', 'GJ-3470',\n",
       "       'GJ-9827', 'GJ1214', 'GJ436', 'GSC-04980-00761', 'HAT-1C',\n",
       "       'HAT-P-11', 'HAT-P-12', 'HAT-P-17', 'HAT-P-18', 'HAT-P-2',\n",
       "       'HAT-P-26', 'HAT-P-3', 'HAT-P-32', 'HAT-P-38', 'HAT-P-41',\n",
       "       'HAT-P-7', 'HAT-P-70B', 'HATS-7', 'HD-106315', 'HD-116405',\n",
       "       'HD-134004', 'HD-149026', 'HD-15082', 'HD-165459', 'HD-185603B',\n",
       "       'HD-195689', 'HD-205905', 'HD-209458', 'HD-219666', 'HD-27836',\n",
       "       'HD-3167', 'HD-37725', 'HD-38949', 'HD-60753', 'HD-93396',\n",
       "       'HD-93521', 'HD-97658', 'HD189733', 'HD209458', 'HIP-41378',\n",
       "       'HIP41378', 'HR-7018', 'K2-18', 'K2-3', 'KELT-1', 'KELT-7',\n",
       "       'KEPLER-138', 'KEPLER-16', 'KEPLER-79', 'L-248-27', 'L-98-59',\n",
       "       'LHS-281', 'LHS-6343', 'LTT-13402', 'LTT-1445A', 'LTT-15209',\n",
       "       'LTT-2351', 'P330E', 'TOI-270', 'TOI674', 'TYC-5165-481-1',\n",
       "       'TYC-5530-1795-1', 'USCO-161014.75-191909.3', 'V-ALF-LYR',\n",
       "       'V-AQ-CAR', 'V-AU-MIC-1', 'V-CD-CYG', 'V-DD-CAS', 'V-HW-CAR',\n",
       "       'V-RX-AUR', 'V-SY-AUR', 'V-SZ-CYG', 'V-V1298-TAU', 'V-VX-PER',\n",
       "       'V-XY-CAR', 'V-XZ-CAR', 'WASP-101', 'WASP-12', 'WASP-121',\n",
       "       'WASP-127', 'WASP-17', 'WASP-18', 'WASP-19CEN', 'WASP-29',\n",
       "       'WASP-31', 'WASP-33', 'WASP-39', 'WASP-43', 'WASP-52', 'WASP-6',\n",
       "       'WASP-62', 'WASP-63', 'WASP-67', 'WASP-69', 'WASP-74', 'WASP-76',\n",
       "       'WASP-77A', 'WASP-79', 'WASP-80', 'XO-1', 'XO-2'], dtype=object)"
      ]
     },
     "execution_count": 22,
     "metadata": {},
     "output_type": "execute_result"
    }
   ],
   "source": [
    "np.unique(df['Target Name'])"
   ]
  },
  {
   "cell_type": "code",
   "execution_count": 1,
   "id": "c0a80bb2-25c2-457a-a648-9eb3d4be4c6a",
   "metadata": {},
   "outputs": [],
   "source": [
    "from astropy.io import fits\n",
    "import matplotlib.pyplot as plt"
   ]
  },
  {
   "cell_type": "code",
   "execution_count": 38,
   "id": "4eecf2a0-a6b9-41fe-8f52-544eef04d152",
   "metadata": {},
   "outputs": [
    {
     "data": {
      "text/plain": [
       "<matplotlib.image.AxesImage at 0x1248ccaf0>"
      ]
     },
     "execution_count": 38,
     "metadata": {},
     "output_type": "execute_result"
    },
    {
     "data": {
      "image/png": "[encoded data removed]",
      "text/plain": [
       "<Figure size 432x288 with 1 Axes>"
      ]
     },
     "metadata": {
      "image/png": {
       "height": 251,
       "width": 263
      },
      "needs_background": "light"
     },
     "output_type": "display_data"
    }
   ],
   "source": [
    "plt.imshow(fits.open('/Volumes/Nibelheim/hst/data/WASP-96/idt051hgq_flt.fits')[1].data)"
   ]
  },
  {
   "cell_type": "code",
   "execution_count": null,
   "id": "13c9fc2f-fb6e-4378-b9fe-e7cabeb88c03",
   "metadata": {},
   "outputs": [],
   "source": []
  }
 ],
 "metadata": {
  "kernelspec": {
   "display_name": "Python 3 (ipykernel)",
   "language": "python",
   "name": "python3"
  },
  "language_info": {
   "codemirror_mode": {
    "name": "ipython",
    "version": 3
   },
   "file_extension": ".py",
   "mimetype": "text/x-python",
   "name": "python",
   "nbconvert_exporter": "python",
   "pygments_lexer": "ipython3",
   "version": "3.8.7"
  }
 },
 "nbformat": 4,
 "nbformat_minor": 5
}
