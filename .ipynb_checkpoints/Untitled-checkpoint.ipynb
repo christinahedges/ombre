{
 "cells": [
  {
   "cell_type": "code",
   "execution_count": 1,
   "id": "feef2b83",
   "metadata": {},
   "outputs": [],
   "source": [
    "import ombre"
   ]
  },
  {
   "cell_type": "code",
   "execution_count": null,
   "id": "cd9ca8da",
   "metadata": {},
   "outputs": [],
   "source": [
    "obs = ombre.Observation.from_MAST('USCO-161014.75-191909.3', name='K2-33')"
   ]
  },
  {
   "cell_type": "code",
   "execution_count": null,
   "id": "619a397a",
   "metadata": {},
   "outputs": [],
   "source": [
    "ombre.methods.animate(obs.sci)"
   ]
  },
  {
   "cell_type": "code",
   "execution_count": null,
   "id": "da40dbc4",
   "metadata": {},
   "outputs": [],
   "source": []
  }
 ],
 "metadata": {
  "kernelspec": {
   "display_name": "Python 3",
   "language": "python",
   "name": "python3"
  },
  "language_info": {
   "codemirror_mode": {
    "name": "ipython",
    "version": 3
   },
   "file_extension": ".py",
   "mimetype": "text/x-python",
   "name": "python",
   "nbconvert_exporter": "python",
   "pygments_lexer": "ipython3",
   "version": "3.6.7"
  }
 },
 "nbformat": 4,
 "nbformat_minor": 5
}
